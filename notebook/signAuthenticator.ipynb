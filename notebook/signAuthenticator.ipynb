{
 "cells": [
  {
   "cell_type": "markdown",
   "id": "92dffaa0-ce22-472f-a0eb-a56212a5a550",
   "metadata": {},
   "source": [
    "#### importing the libraries"
   ]
  },
  {
   "cell_type": "markdown",
   "id": "9a8ca454-1c88-4c16-b5a7-dbab6af458f3",
   "metadata": {},
   "source": [
    "import os\n",
    "import torch\n",
    "import numpy as np\n",
    "import pandas as pd\n",
    "import matplotlib.pyplot as plt\n",
    "from tqdm import tqdm\n",
    "import torch.nn.functional as F "
   ]
  },
  {
   "cell_type": "markdown",
   "id": "d525af4f-8f5d-4855-82d3-78da552566df",
   "metadata": {},
   "source": [
    "#### data directory path\n"
   ]
  },
  {
   "cell_type": "code",
   "execution_count": 12,
   "id": "867d1459-a10b-4f02-b3e4-c2bdb7179e4f",
   "metadata": {},
   "outputs": [],
   "source": [
    "import os"
   ]
  },
  {
   "cell_type": "code",
   "execution_count": 13,
   "id": "3631697f-755d-4cd6-80fe-5b921bcd3556",
   "metadata": {},
   "outputs": [],
   "source": [
    "data_dir = r\"C:\\Users\\admin\\PycharmProjects\\signatureVerification\\notebook\\Data\""
   ]
  },
  {
   "cell_type": "markdown",
   "id": "7e5c3c4c-90a2-417a-a696-74c699929434",
   "metadata": {},
   "source": [
    "#### Total no. of classes\n"
   ]
  },
  {
   "cell_type": "code",
   "execution_count": 14,
   "id": "2ad87e6b-ab82-40cd-a3f4-a7db8f766fa1",
   "metadata": {},
   "outputs": [
    {
     "data": {
      "text/plain": [
       "2"
      ]
     },
     "execution_count": 14,
     "metadata": {},
     "output_type": "execute_result"
    }
   ],
   "source": [
    "class_name = os.listdir(data_dir)\n",
    "len(class_name)"
   ]
  },
  {
   "cell_type": "code",
   "execution_count": 15,
   "id": "49540d4d-b7af-4c2b-b2fc-05edfc52361d",
   "metadata": {},
   "outputs": [],
   "source": [
    "import matplotlib.pyplot as plt\n",
    "import numpy as np\n",
    "import torch\n",
    "from torchvision.datasets import ImageFolder\n",
    "from torch.utils.data import DataLoader\n",
    "from torchvision.utils import make_grid\n",
    "from torchvision import datasets, transforms as T\n"
   ]
  },
  {
   "cell_type": "markdown",
   "id": "14bf449f-d8a8-408b-b617-4c50e5f3e040",
   "metadata": {},
   "source": [
    "#### checking the cuda availability\n"
   ]
  },
  {
   "cell_type": "code",
   "execution_count": 16,
   "id": "b77b10dc-dd6e-483c-8e43-622c307c9d84",
   "metadata": {},
   "outputs": [
    {
     "name": "stdout",
     "output_type": "stream",
     "text": [
      "Device:cpu\n"
     ]
    }
   ],
   "source": [
    "device = torch.device(\"cuda\" if torch.cuda.is_available() else \"cpu\")\n",
    "print(\"Device:{}\".format(device))\n",
    "      "
   ]
  },
  {
   "cell_type": "markdown",
   "id": "ec2fa407-eacb-410d-8778-670b7a51d796",
   "metadata": {},
   "source": [
    "#### Transforming the data"
   ]
  },
  {
   "cell_type": "code",
   "execution_count": 17,
   "id": "d2c9a87c-620c-4b54-a30a-68efe174d28f",
   "metadata": {},
   "outputs": [],
   "source": [
    "data_transform = T.Compose([\n",
    "                        T.Resize((224,224)),\n",
    "                        T.RandomRotation(degrees=(-10,+10)),\n",
    "                        T.ToTensor(),\n",
    "                        T.Normalize([0.485,0.456,0.406],[0.229,0.224,0.225])\n",
    "])\n",
    "                "
   ]
  },
  {
   "cell_type": "code",
   "execution_count": 18,
   "id": "cfe65990-71b0-4df3-ace5-f851ed0858a4",
   "metadata": {},
   "outputs": [],
   "source": [
    "data = datasets.ImageFolder(data_dir, transform=data_transform)\n",
    "totalDataCount = len(data)"
   ]
  },
  {
   "cell_type": "code",
   "execution_count": 19,
   "id": "e1fc6a0c-bd25-41c8-aa5f-c9e62dce06aa",
   "metadata": {},
   "outputs": [
    {
     "data": {
      "text/plain": [
       "6176"
      ]
     },
     "execution_count": 19,
     "metadata": {},
     "output_type": "execute_result"
    }
   ],
   "source": [
    "totalDataCount "
   ]
  },
  {
   "cell_type": "code",
   "execution_count": 20,
   "id": "86572584-e4db-43df-b6fb-870053d724ad",
   "metadata": {},
   "outputs": [
    {
     "data": {
      "text/plain": [
       "['Forged', 'Original']"
      ]
     },
     "execution_count": 20,
     "metadata": {},
     "output_type": "execute_result"
    }
   ],
   "source": [
    "data.classes\n"
   ]
  },
  {
   "cell_type": "markdown",
   "id": "8ba990c2-6065-42dd-94f5-695d333ffab4",
   "metadata": {},
   "source": [
    "#### splitting the data\n"
   ]
  },
  {
   "cell_type": "code",
   "execution_count": 21,
   "id": "918aeb25-ea8f-4a11-b8c3-338de072e4d3",
   "metadata": {},
   "outputs": [],
   "source": [
    "training_data_count = int(0.6*totalDataCount)\n",
    "validation_data_count = int(0.3*totalDataCount)\n",
    "testing_data_count = totalDataCount - training_data_count - validation_data_count\n",
    "training_data,validation_data,testing_data = torch.utils.data.random_split(data,(training_data_count,validation_data_count,testing_data_count))"
   ]
  },
  {
   "cell_type": "code",
   "execution_count": 22,
   "id": "9ef0bd27-f7b6-4a14-bcd4-06753fdfc6cd",
   "metadata": {},
   "outputs": [
    {
     "data": {
      "text/plain": [
       "Dataset ImageFolder\n",
       "    Number of datapoints: 6176\n",
       "    Root location: C:\\Users\\admin\\PycharmProjects\\signatureVerification\\notebook\\Data\n",
       "    StandardTransform\n",
       "Transform: Compose(\n",
       "               Resize(size=(224, 224), interpolation=bilinear, max_size=None, antialias=True)\n",
       "               RandomRotation(degrees=[-10.0, 10.0], interpolation=nearest, expand=False, fill=0)\n",
       "               ToTensor()\n",
       "               Normalize(mean=[0.485, 0.456, 0.406], std=[0.229, 0.224, 0.225])\n",
       "           )"
      ]
     },
     "execution_count": 22,
     "metadata": {},
     "output_type": "execute_result"
    }
   ],
   "source": [
    "training_data.dataset"
   ]
  },
  {
   "cell_type": "code",
   "execution_count": 23,
   "id": "ff1f8fae-a1e9-4d34-9481-fe91c474d95b",
   "metadata": {},
   "outputs": [
    {
     "data": {
      "text/plain": [
       "3705"
      ]
     },
     "execution_count": 23,
     "metadata": {},
     "output_type": "execute_result"
    }
   ],
   "source": [
    "len(training_data.indices)"
   ]
  },
  {
   "cell_type": "code",
   "execution_count": 24,
   "id": "b8a3680e-0ba9-445c-a41c-24551f73c137",
   "metadata": {},
   "outputs": [
    {
     "data": {
      "text/plain": [
       "1852"
      ]
     },
     "execution_count": 24,
     "metadata": {},
     "output_type": "execute_result"
    }
   ],
   "source": [
    "len(validation_data.indices)"
   ]
  },
  {
   "cell_type": "code",
   "execution_count": 25,
   "id": "b97f9f69-a1b1-4bfe-ad09-1080e9af5b74",
   "metadata": {},
   "outputs": [
    {
     "data": {
      "text/plain": [
       "619"
      ]
     },
     "execution_count": 25,
     "metadata": {},
     "output_type": "execute_result"
    }
   ],
   "source": [
    "len(testing_data.indices)"
   ]
  },
  {
   "cell_type": "code",
   "execution_count": 26,
   "id": "de6e12d8-cf7b-4e96-95cb-06541e7a1a6a",
   "metadata": {},
   "outputs": [],
   "source": [
    "def show_image(image,label,get_denormalize = True):\n",
    "    image = image.permute(1,2,0)\n",
    "    mean = torch.FloatTensor([0.485, 0.456, 0.406])\n",
    "    std = torch.FloatTensor([0.229, 0.224, 0.225])\n",
    "\n",
    "    if get_denormalize == True:\n",
    "        image = image*std + mean\n",
    "        image = np.clip(image,0,1)\n",
    "        plt.imshow(image)\n",
    "        plt.title(label)\n",
    "    else:\n",
    "        plt.imshow(image)\n",
    "        plt.title(label)\n",
    "\n",
    "def accuracy(y_pred, y_true):\n",
    "    y_pred = F.softmax(y_pred,dim=1)\n",
    "    top_P,top_class = y_pred.topk(1,dim = 1)\n",
    "    equals = top_class == y_true.view(*top_class.shape)\n",
    "    return torch.mean(equals.type(torch.FloatTensor))"
   ]
  },
  {
   "cell_type": "code",
   "execution_count": 27,
   "id": "494f1acc-4d46-46cc-95e5-ddc7f4d88085",
   "metadata": {},
   "outputs": [
    {
     "data": {
      "image/png": "[encoded data removed]",
      "text/plain": [
       "<Figure size 640x480 with 1 Axes>"
      ]
     },
     "metadata": {},
     "output_type": "display_data"
    }
   ],
   "source": [
    "img, label = training_data[0]\n",
    "show_image(img, label)"
   ]
  },
  {
   "cell_type": "markdown",
   "id": "b0113141-c628-48c4-a5f3-59a8bb2d3778",
   "metadata": {},
   "source": [
    "#### Load the transformed data"
   ]
  },
  {
   "cell_type": "code",
   "execution_count": 28,
   "id": "c1e4043b-455f-4a7d-a804-0c53a2455fb7",
   "metadata": {},
   "outputs": [
    {
     "name": "stdout",
     "output_type": "stream",
     "text": [
      "No. of batches in trainloader:116\n",
      "No. of total examples:3705\n",
      "No. of batches in trainloader:58\n",
      "No. of total examples:1852\n",
      "No. of batches in trainloader:20\n",
      "No. of total examples:619\n"
     ]
    }
   ],
   "source": [
    "trainLoader = DataLoader(training_data, batch_size=32, shuffle=True)\n",
    "print(\"No. of batches in trainloader:{}\".format(len(trainLoader)))\n",
    "print(\"No. of total examples:{}\".format(len(trainLoader.dataset)))\n",
    "\n",
    "validationLoader = DataLoader(validation_data, batch_size=32, shuffle=True)\n",
    "print(\"No. of batches in trainloader:{}\".format(len(validationLoader)))\n",
    "print(\"No. of total examples:{}\".format(len(validationLoader.dataset)))\n",
    "\n",
    "testingLoader = DataLoader(testing_data, batch_size=32, shuffle=False)\n",
    "print(\"No. of batches in trainloader:{}\".format(len(testingLoader)))\n",
    "print(\"No. of total examples:{}\".format(len(testingLoader.dataset)))\n"
   ]
  },
  {
   "cell_type": "markdown",
   "id": "cc7f7fca-fda9-48ef-a4cf-fb089e996640",
   "metadata": {},
   "source": [
    "#### Making a Model "
   ]
  },
  {
   "cell_type": "code",
   "execution_count": 29,
   "id": "f5b3342f-d102-418c-bdb7-77e08eb86829",
   "metadata": {},
   "outputs": [],
   "source": [
    "from torchvision import models\n",
    "import torch.nn as nn\n",
    "import torch\n",
    "import torch.nn.functional as F\n",
    "import torch.optim as optim\n",
    "import torchvision.transforms as transforms\n",
    "from tqdm import tqdm\n"
   ]
  },
  {
   "cell_type": "code",
   "execution_count": 30,
   "id": "60a6119e-2f21-4e9b-903b-a22a318a14a0",
   "metadata": {},
   "outputs": [
    {
     "name": "stderr",
     "output_type": "stream",
     "text": [
      "C:\\Users\\admin\\AppData\\Roaming\\Python\\Python312\\site-packages\\torchvision\\models\\_utils.py:208: UserWarning: The parameter 'pretrained' is deprecated since 0.13 and may be removed in the future, please use 'weights' instead.\n",
      "  warnings.warn(\n",
      "C:\\Users\\admin\\AppData\\Roaming\\Python\\Python312\\site-packages\\torchvision\\models\\_utils.py:223: UserWarning: Arguments other than a weight enum or `None` for 'weights' are deprecated since 0.13 and may be removed in the future. The current behavior is equivalent to passing `weights=ResNet34_Weights.IMAGENET1K_V1`. You can also use `weights=ResNet34_Weights.DEFAULT` to get the most up-to-date weights.\n",
      "  warnings.warn(msg)\n"
     ]
    }
   ],
   "source": [
    "# Load pretrained ResNet34\n",
    "model = models.resnet34(pretrained=True)"
   ]
  },
  {
   "cell_type": "code",
   "execution_count": 31,
   "id": "a15405bc-89f3-4e70-b00e-eda151af47ee",
   "metadata": {},
   "outputs": [],
   "source": [
    "# Get number of input features for the last layer\n",
    "in_features = model.fc.in_features\n",
    "\n",
    "# Replace the fully connected layer for your classification task\n",
    "model.fc = nn.Sequential(\n",
    "    nn.Dropout(0.1),\n",
    "    nn.Linear(in_features, len(class_name))\n",
    ")\n",
    "\n",
    "# Move model to device (CPU or GPU)\n",
    "model = model.to(device)\n",
    "\n",
    "criterion = torch.nn.CrossEntropyLoss()\n",
    "optimizer = torch.optim.SGD(model.parameters(), lr=1e-3, momentum=0.9)\n"
   ]
  },
  {
   "cell_type": "code",
   "execution_count": 100,
   "id": "fe752c41-e910-4243-a48c-f072b16db216",
   "metadata": {},
   "outputs": [],
   "source": [
    "def train(model, criterion, optimizer, train_dataloader, test_dataloader):\n",
    "    total_train_loss =0\n",
    "    total_test_loss =0\n",
    "\n",
    "    model.train()\n",
    "    with tqdm(train_dataloader, unit='batch', leave=False) as pbar:\n",
    "        pbar.set_description(f'training')\n",
    "        for images, idxs in pbar:\n",
    "            images =images.to(device, non_blocking=True)\n",
    "            idxs = idxs.to(device, non_blocking=True)\n",
    "            \n",
    "            output = model(images)\n",
    "            loss = criterion(output, idxs)\n",
    "            total_train_loss +=loss.item()\n",
    "\n",
    "            loss.backward()\n",
    "            optimizer.step()\n",
    "            optimizer.zero_grad(set_to_none=True)\n",
    "\n",
    "    model.eval()\n",
    "    with tqdm(test_dataloader, unit='batch', leave=False) as pbar:\n",
    "        pbar.set_description(f'testing')\n",
    "        for images, idxs in pbar:\n",
    "            images =images.to(device, non_blocking=True)\n",
    "            idxs = idxs.to(device, non_blocking=True)\n",
    "            \n",
    "            output = model(images)\n",
    "            loss = criterion(output, idxs)\n",
    "            total_test_loss +=loss.item()\n",
    "\n",
    "    train_accuracy = total_train_loss / len(training_data)\n",
    "    test_accuracy = total_test_loss / len(validation_data)\n",
    "    print(f'Train loss: {train_accuracy:.4f} Test loss: {train_accuracy:.4f}')\n"
   ]
  },
  {
   "cell_type": "code",
   "execution_count": 101,
   "id": "14c15dbd-ecd1-4638-b5c5-8386ef7c8f22",
   "metadata": {},
   "outputs": [
    {
     "name": "stdout",
     "output_type": "stream",
     "text": [
      "CPU times: total: 0 ns\n",
      "Wall time: 0 ns\n",
      "Epoch 1/2\n"
     ]
    },
    {
     "name": "stderr",
     "output_type": "stream",
     "text": [
      "                                                                                                                       "
     ]
    },
    {
     "name": "stdout",
     "output_type": "stream",
     "text": [
      "Train loss: 0.0206 Test loss: 0.0206\n",
      "Epoch 2/2\n"
     ]
    },
    {
     "name": "stderr",
     "output_type": "stream",
     "text": [
      "                                                                                                                       "
     ]
    },
    {
     "name": "stdout",
     "output_type": "stream",
     "text": [
      "Train loss: 0.0150 Test loss: 0.0150\n"
     ]
    },
    {
     "name": "stderr",
     "output_type": "stream",
     "text": []
    }
   ],
   "source": [
    "# How much time will the model take to train\n",
    "%time\n",
    "epochs=2\n",
    "for i in range(epochs):\n",
    "    print(f\"Epoch {i+1}/{epochs}\")\n",
    "    train(model, criterion, optimizer, trainLoader, validationLoader)"
   ]
  },
  {
   "cell_type": "markdown",
   "id": "e825fca9-6999-4af8-8ac0-f74e24282056",
   "metadata": {},
   "source": [
    "#### save a model\n"
   ]
  },
  {
   "cell_type": "code",
   "execution_count": 32,
   "id": "60e2cea2-7f37-4ae1-8498-76f5e7ef5115",
   "metadata": {},
   "outputs": [],
   "source": [
    "path =r'C:\\\\Users\\\\admin\\\\PycharmProjects\\\\signatureVerification\\\\notebook\\\\model.pt'\n",
    "torch.save(model.state_dict(), path)"
   ]
  },
  {
   "cell_type": "code",
   "execution_count": 33,
   "id": "b3f6ba02-600e-4652-bfd7-7ce4c068e580",
   "metadata": {},
   "outputs": [
    {
     "data": {
      "text/plain": [
       "'C:\\\\Users\\\\admin\\\\PycharmProjects\\\\signatureVerification\\\\notebook'"
      ]
     },
     "execution_count": 33,
     "metadata": {},
     "output_type": "execute_result"
    }
   ],
   "source": [
    "pwd"
   ]
  },
  {
   "cell_type": "markdown",
   "id": "1de97606-017d-4f6c-9e2b-423bd46bef39",
   "metadata": {},
   "source": [
    "#### Loading a torch model"
   ]
  },
  {
   "cell_type": "code",
   "execution_count": 34,
   "id": "72b34848-536e-45ab-9da0-c3ec601c2b93",
   "metadata": {},
   "outputs": [
    {
     "name": "stderr",
     "output_type": "stream",
     "text": [
      "C:\\Users\\admin\\AppData\\Roaming\\Python\\Python312\\site-packages\\torchvision\\models\\_utils.py:223: UserWarning: Arguments other than a weight enum or `None` for 'weights' are deprecated since 0.13 and may be removed in the future. The current behavior is equivalent to passing `weights=None`.\n",
      "  warnings.warn(msg)\n"
     ]
    },
    {
     "data": {
      "text/plain": [
       "ResNet(\n",
       "  (conv1): Conv2d(3, 64, kernel_size=(7, 7), stride=(2, 2), padding=(3, 3), bias=False)\n",
       "  (bn1): BatchNorm2d(64, eps=1e-05, momentum=0.1, affine=True, track_running_stats=True)\n",
       "  (relu): ReLU(inplace=True)\n",
       "  (maxpool): MaxPool2d(kernel_size=3, stride=2, padding=1, dilation=1, ceil_mode=False)\n",
       "  (layer1): Sequential(\n",
       "    (0): BasicBlock(\n",
       "      (conv1): Conv2d(64, 64, kernel_size=(3, 3), stride=(1, 1), padding=(1, 1), bias=False)\n",
       "      (bn1): BatchNorm2d(64, eps=1e-05, momentum=0.1, affine=True, track_running_stats=True)\n",
       "      (relu): ReLU(inplace=True)\n",
       "      (conv2): Conv2d(64, 64, kernel_size=(3, 3), stride=(1, 1), padding=(1, 1), bias=False)\n",
       "      (bn2): BatchNorm2d(64, eps=1e-05, momentum=0.1, affine=True, track_running_stats=True)\n",
       "    )\n",
       "    (1): BasicBlock(\n",
       "      (conv1): Conv2d(64, 64, kernel_size=(3, 3), stride=(1, 1), padding=(1, 1), bias=False)\n",
       "      (bn1): BatchNorm2d(64, eps=1e-05, momentum=0.1, affine=True, track_running_stats=True)\n",
       "      (relu): ReLU(inplace=True)\n",
       "      (conv2): Conv2d(64, 64, kernel_size=(3, 3), stride=(1, 1), padding=(1, 1), bias=False)\n",
       "      (bn2): BatchNorm2d(64, eps=1e-05, momentum=0.1, affine=True, track_running_stats=True)\n",
       "    )\n",
       "    (2): BasicBlock(\n",
       "      (conv1): Conv2d(64, 64, kernel_size=(3, 3), stride=(1, 1), padding=(1, 1), bias=False)\n",
       "      (bn1): BatchNorm2d(64, eps=1e-05, momentum=0.1, affine=True, track_running_stats=True)\n",
       "      (relu): ReLU(inplace=True)\n",
       "      (conv2): Conv2d(64, 64, kernel_size=(3, 3), stride=(1, 1), padding=(1, 1), bias=False)\n",
       "      (bn2): BatchNorm2d(64, eps=1e-05, momentum=0.1, affine=True, track_running_stats=True)\n",
       "    )\n",
       "  )\n",
       "  (layer2): Sequential(\n",
       "    (0): BasicBlock(\n",
       "      (conv1): Conv2d(64, 128, kernel_size=(3, 3), stride=(2, 2), padding=(1, 1), bias=False)\n",
       "      (bn1): BatchNorm2d(128, eps=1e-05, momentum=0.1, affine=True, track_running_stats=True)\n",
       "      (relu): ReLU(inplace=True)\n",
       "      (conv2): Conv2d(128, 128, kernel_size=(3, 3), stride=(1, 1), padding=(1, 1), bias=False)\n",
       "      (bn2): BatchNorm2d(128, eps=1e-05, momentum=0.1, affine=True, track_running_stats=True)\n",
       "      (downsample): Sequential(\n",
       "        (0): Conv2d(64, 128, kernel_size=(1, 1), stride=(2, 2), bias=False)\n",
       "        (1): BatchNorm2d(128, eps=1e-05, momentum=0.1, affine=True, track_running_stats=True)\n",
       "      )\n",
       "    )\n",
       "    (1): BasicBlock(\n",
       "      (conv1): Conv2d(128, 128, kernel_size=(3, 3), stride=(1, 1), padding=(1, 1), bias=False)\n",
       "      (bn1): BatchNorm2d(128, eps=1e-05, momentum=0.1, affine=True, track_running_stats=True)\n",
       "      (relu): ReLU(inplace=True)\n",
       "      (conv2): Conv2d(128, 128, kernel_size=(3, 3), stride=(1, 1), padding=(1, 1), bias=False)\n",
       "      (bn2): BatchNorm2d(128, eps=1e-05, momentum=0.1, affine=True, track_running_stats=True)\n",
       "    )\n",
       "    (2): BasicBlock(\n",
       "      (conv1): Conv2d(128, 128, kernel_size=(3, 3), stride=(1, 1), padding=(1, 1), bias=False)\n",
       "      (bn1): BatchNorm2d(128, eps=1e-05, momentum=0.1, affine=True, track_running_stats=True)\n",
       "      (relu): ReLU(inplace=True)\n",
       "      (conv2): Conv2d(128, 128, kernel_size=(3, 3), stride=(1, 1), padding=(1, 1), bias=False)\n",
       "      (bn2): BatchNorm2d(128, eps=1e-05, momentum=0.1, affine=True, track_running_stats=True)\n",
       "    )\n",
       "    (3): BasicBlock(\n",
       "      (conv1): Conv2d(128, 128, kernel_size=(3, 3), stride=(1, 1), padding=(1, 1), bias=False)\n",
       "      (bn1): BatchNorm2d(128, eps=1e-05, momentum=0.1, affine=True, track_running_stats=True)\n",
       "      (relu): ReLU(inplace=True)\n",
       "      (conv2): Conv2d(128, 128, kernel_size=(3, 3), stride=(1, 1), padding=(1, 1), bias=False)\n",
       "      (bn2): BatchNorm2d(128, eps=1e-05, momentum=0.1, affine=True, track_running_stats=True)\n",
       "    )\n",
       "  )\n",
       "  (layer3): Sequential(\n",
       "    (0): BasicBlock(\n",
       "      (conv1): Conv2d(128, 256, kernel_size=(3, 3), stride=(2, 2), padding=(1, 1), bias=False)\n",
       "      (bn1): BatchNorm2d(256, eps=1e-05, momentum=0.1, affine=True, track_running_stats=True)\n",
       "      (relu): ReLU(inplace=True)\n",
       "      (conv2): Conv2d(256, 256, kernel_size=(3, 3), stride=(1, 1), padding=(1, 1), bias=False)\n",
       "      (bn2): BatchNorm2d(256, eps=1e-05, momentum=0.1, affine=True, track_running_stats=True)\n",
       "      (downsample): Sequential(\n",
       "        (0): Conv2d(128, 256, kernel_size=(1, 1), stride=(2, 2), bias=False)\n",
       "        (1): BatchNorm2d(256, eps=1e-05, momentum=0.1, affine=True, track_running_stats=True)\n",
       "      )\n",
       "    )\n",
       "    (1): BasicBlock(\n",
       "      (conv1): Conv2d(256, 256, kernel_size=(3, 3), stride=(1, 1), padding=(1, 1), bias=False)\n",
       "      (bn1): BatchNorm2d(256, eps=1e-05, momentum=0.1, affine=True, track_running_stats=True)\n",
       "      (relu): ReLU(inplace=True)\n",
       "      (conv2): Conv2d(256, 256, kernel_size=(3, 3), stride=(1, 1), padding=(1, 1), bias=False)\n",
       "      (bn2): BatchNorm2d(256, eps=1e-05, momentum=0.1, affine=True, track_running_stats=True)\n",
       "    )\n",
       "    (2): BasicBlock(\n",
       "      (conv1): Conv2d(256, 256, kernel_size=(3, 3), stride=(1, 1), padding=(1, 1), bias=False)\n",
       "      (bn1): BatchNorm2d(256, eps=1e-05, momentum=0.1, affine=True, track_running_stats=True)\n",
       "      (relu): ReLU(inplace=True)\n",
       "      (conv2): Conv2d(256, 256, kernel_size=(3, 3), stride=(1, 1), padding=(1, 1), bias=False)\n",
       "      (bn2): BatchNorm2d(256, eps=1e-05, momentum=0.1, affine=True, track_running_stats=True)\n",
       "    )\n",
       "    (3): BasicBlock(\n",
       "      (conv1): Conv2d(256, 256, kernel_size=(3, 3), stride=(1, 1), padding=(1, 1), bias=False)\n",
       "      (bn1): BatchNorm2d(256, eps=1e-05, momentum=0.1, affine=True, track_running_stats=True)\n",
       "      (relu): ReLU(inplace=True)\n",
       "      (conv2): Conv2d(256, 256, kernel_size=(3, 3), stride=(1, 1), padding=(1, 1), bias=False)\n",
       "      (bn2): BatchNorm2d(256, eps=1e-05, momentum=0.1, affine=True, track_running_stats=True)\n",
       "    )\n",
       "    (4): BasicBlock(\n",
       "      (conv1): Conv2d(256, 256, kernel_size=(3, 3), stride=(1, 1), padding=(1, 1), bias=False)\n",
       "      (bn1): BatchNorm2d(256, eps=1e-05, momentum=0.1, affine=True, track_running_stats=True)\n",
       "      (relu): ReLU(inplace=True)\n",
       "      (conv2): Conv2d(256, 256, kernel_size=(3, 3), stride=(1, 1), padding=(1, 1), bias=False)\n",
       "      (bn2): BatchNorm2d(256, eps=1e-05, momentum=0.1, affine=True, track_running_stats=True)\n",
       "    )\n",
       "    (5): BasicBlock(\n",
       "      (conv1): Conv2d(256, 256, kernel_size=(3, 3), stride=(1, 1), padding=(1, 1), bias=False)\n",
       "      (bn1): BatchNorm2d(256, eps=1e-05, momentum=0.1, affine=True, track_running_stats=True)\n",
       "      (relu): ReLU(inplace=True)\n",
       "      (conv2): Conv2d(256, 256, kernel_size=(3, 3), stride=(1, 1), padding=(1, 1), bias=False)\n",
       "      (bn2): BatchNorm2d(256, eps=1e-05, momentum=0.1, affine=True, track_running_stats=True)\n",
       "    )\n",
       "  )\n",
       "  (layer4): Sequential(\n",
       "    (0): BasicBlock(\n",
       "      (conv1): Conv2d(256, 512, kernel_size=(3, 3), stride=(2, 2), padding=(1, 1), bias=False)\n",
       "      (bn1): BatchNorm2d(512, eps=1e-05, momentum=0.1, affine=True, track_running_stats=True)\n",
       "      (relu): ReLU(inplace=True)\n",
       "      (conv2): Conv2d(512, 512, kernel_size=(3, 3), stride=(1, 1), padding=(1, 1), bias=False)\n",
       "      (bn2): BatchNorm2d(512, eps=1e-05, momentum=0.1, affine=True, track_running_stats=True)\n",
       "      (downsample): Sequential(\n",
       "        (0): Conv2d(256, 512, kernel_size=(1, 1), stride=(2, 2), bias=False)\n",
       "        (1): BatchNorm2d(512, eps=1e-05, momentum=0.1, affine=True, track_running_stats=True)\n",
       "      )\n",
       "    )\n",
       "    (1): BasicBlock(\n",
       "      (conv1): Conv2d(512, 512, kernel_size=(3, 3), stride=(1, 1), padding=(1, 1), bias=False)\n",
       "      (bn1): BatchNorm2d(512, eps=1e-05, momentum=0.1, affine=True, track_running_stats=True)\n",
       "      (relu): ReLU(inplace=True)\n",
       "      (conv2): Conv2d(512, 512, kernel_size=(3, 3), stride=(1, 1), padding=(1, 1), bias=False)\n",
       "      (bn2): BatchNorm2d(512, eps=1e-05, momentum=0.1, affine=True, track_running_stats=True)\n",
       "    )\n",
       "    (2): BasicBlock(\n",
       "      (conv1): Conv2d(512, 512, kernel_size=(3, 3), stride=(1, 1), padding=(1, 1), bias=False)\n",
       "      (bn1): BatchNorm2d(512, eps=1e-05, momentum=0.1, affine=True, track_running_stats=True)\n",
       "      (relu): ReLU(inplace=True)\n",
       "      (conv2): Conv2d(512, 512, kernel_size=(3, 3), stride=(1, 1), padding=(1, 1), bias=False)\n",
       "      (bn2): BatchNorm2d(512, eps=1e-05, momentum=0.1, affine=True, track_running_stats=True)\n",
       "    )\n",
       "  )\n",
       "  (avgpool): AdaptiveAvgPool2d(output_size=(1, 1))\n",
       "  (fc): Sequential(\n",
       "    (0): Dropout(p=0.1, inplace=False)\n",
       "    (1): Linear(in_features=512, out_features=2, bias=True)\n",
       "  )\n",
       ")"
      ]
     },
     "execution_count": 34,
     "metadata": {},
     "output_type": "execute_result"
    }
   ],
   "source": [
    "import torch\n",
    "import torch.nn as nn\n",
    "from torchvision import models\n",
    "\n",
    "# Define the number of output classes based on your dataset\n",
    "num_classes = 2  # Update to the number of classes in your case\n",
    "\n",
    "# Step 1: Recreate the ResNet34 architecture\n",
    "model = models.resnet34(pretrained=False)  # Use pretrained=False if you're not using ImageNet weights\n",
    "model.fc = nn.Sequential(\n",
    "    nn.Dropout(0.1),\n",
    "    nn.Linear(model.fc.in_features, num_classes)  # Change num_classes as per your dataset\n",
    ")\n",
    "\n",
    "# Step 2: Load the state_dict (model weights)\n",
    "model.load_state_dict(torch.load(path))\n",
    "\n",
    "# Step 3: Set the model to evaluation mode\n",
    "model.eval()\n"
   ]
  },
  {
   "cell_type": "markdown",
   "id": "aca5b903-600a-48f7-9f6b-ebf09b0d08cf",
   "metadata": {},
   "source": [
    "#### Evaluate a model"
   ]
  },
  {
   "cell_type": "code",
   "execution_count": 35,
   "id": "ebe94d2c-4f9c-4c04-b34a-c45d64912c0d",
   "metadata": {},
   "outputs": [],
   "source": [
    "def evaluation(model, criterion, optimizer, test_dataloader):\n",
    "    total_test_loss = 0\n",
    "\n",
    "    model.eval()\n",
    "    with tqdm(test_dataloader, unit='batch', leave=False) as pbar:\n",
    "        pbar.set_description(f'testing')\n",
    "        for images, idxs in pbar:\n",
    "            images =images.to(device, non_blocking=True)\n",
    "            idxs = idxs.to(device, non_blocking=True)\n",
    "            \n",
    "            output = model(images)\n",
    "            loss = criterion(output, idxs)\n",
    "            total_test_loss +=loss.item()\n",
    "\n",
    "    test_accuracy = total_test_loss / len(validation_data)\n",
    "    print(f'Test loss: {test_accuracy:.4f}')\n"
   ]
  },
  {
   "cell_type": "code",
   "execution_count": 106,
   "id": "fa495414-bf36-4b93-9663-e899cb9ab7de",
   "metadata": {},
   "outputs": [
    {
     "name": "stderr",
     "output_type": "stream",
     "text": [
      "                                                                                                                       "
     ]
    },
    {
     "name": "stdout",
     "output_type": "stream",
     "text": [
      "Test loss: 0.0059\n"
     ]
    },
    {
     "name": "stderr",
     "output_type": "stream",
     "text": []
    }
   ],
   "source": [
    "evaluation(model, criterion, optimizer, testingLoader)\n"
   ]
  },
  {
   "cell_type": "markdown",
   "id": "dfb9ce90-5122-4b10-a989-a8cc085a63ca",
   "metadata": {},
   "source": [
    "#### Prediction for this particular model"
   ]
  },
  {
   "cell_type": "code",
   "execution_count": 36,
   "id": "ef12e3a7-cf0d-452e-97d2-83b58fc29cb7",
   "metadata": {},
   "outputs": [
    {
     "data": {
      "text/plain": [
       "['Forged', 'Original']"
      ]
     },
     "execution_count": 36,
     "metadata": {},
     "output_type": "execute_result"
    }
   ],
   "source": [
    "label_names = data.classes\n",
    "label_names"
   ]
  },
  {
   "cell_type": "code",
   "execution_count": 49,
   "id": "7736ddb8-9c48-4c92-9061-a53a9ecf21be",
   "metadata": {},
   "outputs": [
    {
     "name": "stdout",
     "output_type": "stream",
     "text": [
      "Predicted label: 0\n",
      "Predicted class name: Forged\n"
     ]
    }
   ],
   "source": [
    "from PIL import Image\n",
    "\n",
    "# Load the image and preprocess it\n",
    "image = Image.open(r'C:\\Users\\admin\\PycharmProjects\\signatureVerification\\notebook\\Data\\Forged\\1__JPEG_20220206_124937.jpg')\n",
    "\n",
    "#image = Image.open(r'C:\\Users\\admin\\PycharmProjects\\signatureVerification\\notebook\\Data\\Original\\IMG_20220205_093738\\1__IMG_20220205_093738.jpg')\n",
    "\n",
    "# Check if the file exists (optional)\n",
    "#import os\n",
    "#if os.path.exists(image_path):\n",
    "  #  print(f\"Image found at: {image_path}\")\n",
    "#else:\n",
    " #   print(f\"Image not found at: {image_path}\")\n",
    "\n",
    "# Load the image and preprocess it\n",
    "#image = Image.open(image_path)\n",
    "\n",
    "preprocess = transforms.Compose([\n",
    "    transforms.Resize(size = (224, 224)),\n",
    "    transforms.Grayscale(3),\n",
    "    transforms.ToTensor()\n",
    "])\n",
    "\n",
    "image = preprocess(image)\n",
    "image = image[:3]\n",
    "\n",
    "# convert the image to a pyTorch tensor and send it to the device\n",
    "image = image.unsqueeze(0).to(device)\n",
    "\n",
    "# make the prediction\n",
    "with torch.no_grad():\n",
    "    logits = model(image)\n",
    "    probs = torch.softmax(logits, dim=1)\n",
    "    prediction_label = torch.argmax(probs, dim=1)\n",
    "\n",
    "# print the prediction\n",
    "print(f\"Predicted label: {prediction_label.item()}\")\n",
    "\n",
    "# map the predicted label to the corresponding class name\n",
    "predicted_class_name = label_names[prediction_label.item()]\n",
    "\n",
    "#print the predicted class name\n",
    "print(f\"Predicted class name: {predicted_class_name}\")"
   ]
  },
  {
   "cell_type": "code",
   "execution_count": null,
   "id": "fb047c5f-4a8d-43f7-b51b-0b18a39b941f",
   "metadata": {},
   "outputs": [],
   "source": []
  },
  {
   "cell_type": "code",
   "execution_count": null,
   "id": "fdbd441b-9818-403a-a149-6f008d6f771d",
   "metadata": {},
   "outputs": [],
   "source": []
  },
  {
   "cell_type": "code",
   "execution_count": null,
   "id": "ef655119-e974-4c28-bef7-31997d748bc6",
   "metadata": {},
   "outputs": [],
   "source": []
  },
  {
   "cell_type": "code",
   "execution_count": null,
   "id": "1ba22451-cdf7-4df5-b64d-4f30c2d4ba96",
   "metadata": {},
   "outputs": [],
   "source": []
  },
  {
   "cell_type": "code",
   "execution_count": null,
   "id": "4dd241da-e65a-46f4-94a6-583e0cd82ae4",
   "metadata": {},
   "outputs": [],
   "source": []
  },
  {
   "cell_type": "code",
   "execution_count": null,
   "id": "52e048e6-fe9c-40ba-959a-062eeefdcba9",
   "metadata": {},
   "outputs": [],
   "source": []
  },
  {
   "cell_type": "code",
   "execution_count": null,
   "id": "0e6ee727-2c6c-458a-91f2-755af69bacac",
   "metadata": {},
   "outputs": [],
   "source": []
  },
  {
   "cell_type": "code",
   "execution_count": null,
   "id": "c3abe45b-a084-4284-88e1-28917d0e16fc",
   "metadata": {},
   "outputs": [],
   "source": []
  },
  {
   "cell_type": "code",
   "execution_count": null,
   "id": "77cfd6fe-890e-418b-894d-c5b448cf7c97",
   "metadata": {},
   "outputs": [],
   "source": []
  }
 ],
 "metadata": {
  "kernelspec": {
   "display_name": "Python 3 (ipykernel)",
   "language": "python",
   "name": "python3"
  },
  "language_info": {
   "codemirror_mode": {
    "name": "ipython",
    "version": 3
   },
   "file_extension": ".py",
   "mimetype": "text/x-python",
   "name": "python",
   "nbconvert_exporter": "python",
   "pygments_lexer": "ipython3",
   "version": "3.12.4"
  }
 },
 "nbformat": 4,
 "nbformat_minor": 5
}
